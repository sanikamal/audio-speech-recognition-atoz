{
 "cells": [
  {
   "cell_type": "markdown",
   "id": "9ece8dcc-567d-4163-9adf-2a0d6b7d389e",
   "metadata": {},
   "source": [
    "# Digitization and Recording of Speech"
   ]
  },
  {
   "cell_type": "code",
   "execution_count": 4,
   "id": "7f19a1b9-ab87-4d23-bdf5-683682fad4bf",
   "metadata": {},
   "outputs": [],
   "source": [
    "import speech_recognition as sr"
   ]
  },
  {
   "cell_type": "code",
   "execution_count": 5,
   "id": "9a04bd8b-bff6-4490-823e-20d1b2fb7303",
   "metadata": {},
   "outputs": [
    {
     "data": {
      "text/plain": [
       "'3.8.1'"
      ]
     },
     "execution_count": 5,
     "metadata": {},
     "output_type": "execute_result"
    }
   ],
   "source": [
    "sr.__version__"
   ]
  },
  {
   "cell_type": "code",
   "execution_count": 13,
   "id": "028da33f-b1b2-4ae5-a27a-f14192525e34",
   "metadata": {},
   "outputs": [],
   "source": [
    "#Create a Recognizer class \n",
    "r=sr.Recognizer()"
   ]
  },
  {
   "cell_type": "code",
   "execution_count": 14,
   "id": "97642722-c756-4d04-ba33-0d39232e607d",
   "metadata": {},
   "outputs": [],
   "source": [
    "file = sr.AudioFile('../data/harvard.wav')"
   ]
  },
  {
   "cell_type": "code",
   "execution_count": 15,
   "id": "30268f4a-b40d-4a77-a796-62bce168299d",
   "metadata": {},
   "outputs": [],
   "source": [
    "with file as source:\n",
    "    audio = r.record(source)"
   ]
  },
  {
   "cell_type": "code",
   "execution_count": 16,
   "id": "ca1cc8a9-59f2-4104-814b-3c04661975ca",
   "metadata": {},
   "outputs": [
    {
     "data": {
      "text/plain": [
       "speech_recognition.AudioData"
      ]
     },
     "execution_count": 16,
     "metadata": {},
     "output_type": "execute_result"
    }
   ],
   "source": [
    "# check type\n",
    "type(audio)"
   ]
  },
  {
   "cell_type": "code",
   "execution_count": 18,
   "id": "55f5d562-763e-4f91-991a-d8111a13f343",
   "metadata": {},
   "outputs": [
    {
     "data": {
      "text/plain": [
       "'the still smell of old beer drinkers it takes hi to bring out the order I called it yourself invest a salt a kotess find the M tacos Al pastor my favourite is just for food is Bihar cross bun'"
      ]
     },
     "execution_count": 18,
     "metadata": {},
     "output_type": "execute_result"
    }
   ],
   "source": [
    "r.recognize_google(audio)"
   ]
  },
  {
   "cell_type": "code",
   "execution_count": 19,
   "id": "59f4df70-c557-4792-ae22-ff303c7ba5a1",
   "metadata": {},
   "outputs": [
    {
     "data": {
      "text/plain": [
       "'the still smell of old beer drinkers it takes heat to bring out the order I called it'"
      ]
     },
     "execution_count": 19,
     "metadata": {},
     "output_type": "execute_result"
    }
   ],
   "source": [
    "with file as source:\n",
    "    audio = r.record(source,duration=8)\n",
    "r.recognize_google(audio)"
   ]
  },
  {
   "cell_type": "code",
   "execution_count": null,
   "id": "4d96f33d-e2fb-4b2b-ab24-1111cb54e060",
   "metadata": {},
   "outputs": [],
   "source": []
  }
 ],
 "metadata": {
  "kernelspec": {
   "display_name": "Python 3 (ipykernel)",
   "language": "python",
   "name": "python3"
  },
  "language_info": {
   "codemirror_mode": {
    "name": "ipython",
    "version": 3
   },
   "file_extension": ".py",
   "mimetype": "text/x-python",
   "name": "python",
   "nbconvert_exporter": "python",
   "pygments_lexer": "ipython3",
   "version": "3.9.7"
  }
 },
 "nbformat": 4,
 "nbformat_minor": 5
}
